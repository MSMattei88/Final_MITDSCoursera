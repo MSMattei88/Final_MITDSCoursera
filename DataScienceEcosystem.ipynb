{
  "nbformat": 4,
  "nbformat_minor": 0,
  "metadata": {
    "colab": {
      "provenance": []
    },
    "kernelspec": {
      "name": "python3",
      "display_name": "Python 3"
    },
    "language_info": {
      "name": "python"
    }
  },
  "cells": [
    {
      "cell_type": "markdown",
      "source": [
        "# Data Science Tools and Ecosystem"
      ],
      "metadata": {
        "id": "VcoeIEjzEhYx"
      }
    },
    {
      "cell_type": "markdown",
      "source": [
        "###In this notebook, Data Science Tools and Ecosystem are Summarized."
      ],
      "metadata": {
        "id": "gIVZqhUGFYQZ"
      }
    },
    {
      "cell_type": "markdown",
      "source": [
        "###Objectives:\n",
        "- List popular data science languages\n",
        "- List common libraries used for data science.\n",
        "- List development environments used for data science.\n",
        "- Demonstrate simple arithmetic experessions in python."
      ],
      "metadata": {
        "id": "MHJXc3QKORKq"
      }
    },
    {
      "cell_type": "markdown",
      "source": [
        "###Some of the popular languages that Data Scientists use are:\n",
        "\n",
        "1. Python\n",
        "2. R\n",
        "3. Julia\n",
        "4. Scala\n",
        "5. SQL"
      ],
      "metadata": {
        "id": "7Q5_vA_3GHpg"
      }
    },
    {
      "cell_type": "markdown",
      "source": [
        "###Some of the commonly used (Python) libraries used by Data Scientists include:\n",
        "1. Pandas\n",
        "2. Seaborn\n",
        "3. Scikit-learn\n",
        "4. PyTorch"
      ],
      "metadata": {
        "id": "e52bgRdLHBVY"
      }
    },
    {
      "cell_type": "markdown",
      "source": [
        "| Data Science Tools |\n",
        "|:------:|\n",
        "| RStudio |\n",
        "| Jupyter Lab |\n",
        "| Visual Studio |"
      ],
      "metadata": {
        "id": "bg2mTceuIQ8f"
      }
    },
    {
      "cell_type": "markdown",
      "source": [
        "###Below are a few examples of evaluating arithmetic expressions in Python"
      ],
      "metadata": {
        "id": "QNQvlX-FLibE"
      }
    },
    {
      "cell_type": "code",
      "source": [
        "#This a simple arithmetic expression to mutiply then add integers.\n",
        "(3*4)+5"
      ],
      "metadata": {
        "colab": {
          "base_uri": "https://localhost:8080/"
        },
        "id": "lM9pHADhLoZt",
        "outputId": "69869212-42ee-4512-ba95-2e059c2c8f22"
      },
      "execution_count": 1,
      "outputs": [
        {
          "output_type": "execute_result",
          "data": {
            "text/plain": [
              "17"
            ]
          },
          "metadata": {},
          "execution_count": 1
        }
      ]
    },
    {
      "cell_type": "code",
      "source": [
        "#This will convert 200 minutes to hours by diving by 60.\n",
        "t_min=200 #Time in minutes\n",
        "t_hour=t_min/60 #Time converted to hours\n",
        "print(t_hour)"
      ],
      "metadata": {
        "colab": {
          "base_uri": "https://localhost:8080/"
        },
        "id": "VlFCR4tTNOR8",
        "outputId": "b980e1e7-47e8-4e6e-e735-16e55a8be304"
      },
      "execution_count": 4,
      "outputs": [
        {
          "output_type": "stream",
          "name": "stdout",
          "text": [
            "3.3333333333333335\n"
          ]
        }
      ]
    },
    {
      "cell_type": "markdown",
      "source": [
        "##Author\n",
        "Mike Mattei"
      ],
      "metadata": {
        "id": "pDRvmVgEPbjS"
      }
    },
    {
      "cell_type": "code",
      "source": [],
      "metadata": {
        "id": "yOmI4Rn3QMJk"
      },
      "execution_count": null,
      "outputs": []
    }
  ]
}